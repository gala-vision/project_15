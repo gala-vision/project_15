{
 "cells": [
  {
   "cell_type": "markdown",
   "id": "CUQuYmMs-mKK",
   "metadata": {
    "deletable": false,
    "editable": false,
    "id": "CUQuYmMs-mKK",
    "tags": [
     "21a32eca-7494-4096-b202-21be1b7f0a7d"
    ]
   },
   "source": []
  },
  {
   "cell_type": "markdown",
   "id": "-O_TrgrssrqB",
   "metadata": {
    "id": "-O_TrgrssrqB"
   },
   "source": [
    "# Сборный проект-4\n",
    "\n",
    "Нам поручено разработать демонстрационную версию поиска изображений по запросу.\n",
    "\n",
    "Для демонстрационной версии нужно обучить модель, которая получит векторное представление изображения, векторное представление текста, а на выходе выдаст число от 0 до 1 — покажет, насколько текст и картинка подходят друг другу.\n",
    "\n"
   ]
  },
  {
   "cell_type": "markdown",
   "id": "G8tGTHrvsp6H",
   "metadata": {
    "id": "G8tGTHrvsp6H"
   },
   "source": [
    "## Описание данных"
   ]
  },
  {
   "cell_type": "markdown",
   "id": "1ff1020a",
   "metadata": {
    "cellId": "pbwq209p45adtxfy5ofecd",
    "execution_id": "7cb94123-6481-41de-973a-91abe63db303",
    "id": "1ff1020a"
   },
   "source": [
    "\n",
    "\n",
    "\n",
    "\n",
    "Данные доступны по [ссылке](https://code.s3.yandex.net/datasets/dsplus_integrated_project_4.zip).\n",
    "\n",
    "В файле `train_dataset.csv` находится информация, необходимая для обучения: имя файла изображения, идентификатор описания и текст описания. Для одной картинки может быть доступно до 5 описаний. Идентификатор описания имеет формат `<имя файла изображения>#<порядковый номер описания>`.\n",
    "\n",
    "В папке `train_images` содержатся изображения для тренировки модели.\n",
    "\n",
    "В файле `CrowdAnnotations.tsv` — данные по соответствию изображения и описания, полученные с помощью краудсорсинга. Номера колонок и соответствующий тип данных:\n",
    "\n",
    "1. Имя файла изображения.\n",
    "2. Идентификатор описания.\n",
    "3. Доля людей, подтвердивших, что описание соответствует изображению.\n",
    "4. Количество человек, подтвердивших, что описание соответствует изображению.\n",
    "5. Количество человек, подтвердивших, что описание не соответствует изображению.\n",
    "\n",
    "В файле `ExpertAnnotations.tsv` содержатся данные по соответствию изображения и описания, полученные в результате опроса экспертов. Номера колонок и соответствующий тип данных:\n",
    "\n",
    "1. Имя файла изображения.\n",
    "2. Идентификатор описания.\n",
    "\n",
    "3, 4, 5 — оценки трёх экспертов.\n",
    "\n",
    "Эксперты ставят оценки по шкале от 1 до 4, где 1 — изображение и запрос совершенно не соответствуют друг другу, 2 — запрос содержит элементы описания изображения, но в целом запрос тексту не соответствует, 3 — запрос и текст соответствуют с точностью до некоторых деталей, 4 — запрос и текст соответствуют полностью.\n",
    "\n",
    "В файле `test_queries.csv` находится информация, необходимая для тестирования: идентификатор запроса, текст запроса и релевантное изображение. Для одной картинки может быть доступно до 5 описаний. Идентификатор описания имеет формат `<имя файла изображения>#<порядковый номер описания>`.\n",
    "\n",
    "В папке `test_images` содержатся изображения для тестирования модели."
   ]
  },
  {
   "cell_type": "markdown",
   "id": "jRSMwUZ0T-ow",
   "metadata": {
    "id": "jRSMwUZ0T-ow"
   },
   "source": [
    "Импортируем необходимые для работы библиотеки"
   ]
  },
  {
   "cell_type": "code",
   "execution_count": 1,
   "id": "0612b868",
   "metadata": {},
   "outputs": [
    {
     "name": "stdout",
     "output_type": "stream",
     "text": [
      "Requirement already satisfied: torchvision in c:\\anaconda3\\lib\\site-packages (0.20.1+cu118)\n",
      "Requirement already satisfied: numpy in c:\\anaconda3\\lib\\site-packages (from torchvision) (1.24.4)\n",
      "Requirement already satisfied: torch==2.5.1+cu118 in c:\\anaconda3\\lib\\site-packages (from torchvision) (2.5.1+cu118)\n",
      "Requirement already satisfied: pillow!=8.3.*,>=5.3.0 in c:\\anaconda3\\lib\\site-packages (from torchvision) (10.0.1)\n",
      "Requirement already satisfied: filelock in c:\\anaconda3\\lib\\site-packages (from torch==2.5.1+cu118->torchvision) (3.9.0)\n",
      "Requirement already satisfied: typing-extensions>=4.8.0 in c:\\anaconda3\\lib\\site-packages (from torch==2.5.1+cu118->torchvision) (4.12.2)\n",
      "Requirement already satisfied: networkx in c:\\anaconda3\\lib\\site-packages (from torch==2.5.1+cu118->torchvision) (3.1)\n",
      "Requirement already satisfied: jinja2 in c:\\anaconda3\\lib\\site-packages (from torch==2.5.1+cu118->torchvision) (3.1.2)\n",
      "Requirement already satisfied: fsspec in c:\\anaconda3\\lib\\site-packages (from torch==2.5.1+cu118->torchvision) (2024.12.0)\n",
      "Requirement already satisfied: sympy==1.13.1 in c:\\anaconda3\\lib\\site-packages (from torch==2.5.1+cu118->torchvision) (1.13.1)\n",
      "Requirement already satisfied: mpmath<1.4,>=1.1.0 in c:\\anaconda3\\lib\\site-packages (from sympy==1.13.1->torch==2.5.1+cu118->torchvision) (1.3.0)\n",
      "Requirement already satisfied: MarkupSafe>=2.0 in c:\\anaconda3\\lib\\site-packages (from jinja2->torch==2.5.1+cu118->torchvision) (2.0.1)\n"
     ]
    },
    {
     "name": "stderr",
     "output_type": "stream",
     "text": [
      "\n",
      "[notice] A new release of pip is available: 24.3.1 -> 25.0.1\n",
      "[notice] To update, run: python.exe -m pip install --upgrade pip\n"
     ]
    }
   ],
   "source": [
    "!pip install torchvision"
   ]
  },
  {
   "cell_type": "code",
   "execution_count": 2,
   "id": "vg0UcgMtbTrS",
   "metadata": {
    "id": "vg0UcgMtbTrS"
   },
   "outputs": [],
   "source": [
    "import pandas as pd\n",
    "import matplotlib.pyplot as plt\n",
    "import seaborn as sns\n",
    "import sys, os\n",
    "from PIL import Image\n",
    "import torch\n",
    "import torchvision.models as models\n",
    "import torchvision.transforms as transforms\n",
    "import numpy as np"
   ]
  },
  {
   "cell_type": "markdown",
   "id": "gvAL0HPrUDfw",
   "metadata": {
    "id": "gvAL0HPrUDfw"
   },
   "source": [
    "Клонируем репозиторий с гитхаба"
   ]
  },
  {
   "cell_type": "code",
   "execution_count": 3,
   "id": "uB4vWMcCpyDX",
   "metadata": {
    "colab": {
     "base_uri": "https://localhost:8080/"
    },
    "id": "uB4vWMcCpyDX",
    "outputId": "aeb49e4d-cfae-45ec-8eeb-12ced1ecf40d"
   },
   "outputs": [
    {
     "name": "stdout",
     "output_type": "stream",
     "text": [
      "C:\\Users\\Галина\\project_15\\notebooks\n"
     ]
    },
    {
     "name": "stderr",
     "output_type": "stream",
     "text": [
      "fatal: destination path 'project_15' already exists and is not an empty directory.\n"
     ]
    }
   ],
   "source": [
    "!git clone https://github.com/gala-vision/project_15.git\n",
    "%cd project_15/notebooks\n"
   ]
  },
  {
   "cell_type": "code",
   "execution_count": 4,
   "id": "oXMeotZzok2K",
   "metadata": {
    "colab": {
     "base_uri": "https://localhost:8080/"
    },
    "id": "oXMeotZzok2K",
    "outputId": "a908246f-7ce5-44aa-c14a-73d7d4388e61"
   },
   "outputs": [
    {
     "name": "stdout",
     "output_type": "stream",
     "text": [
      "Путь к src: C:\\Users\\Галина\\project_15\\notebooks\\..\\src\n"
     ]
    }
   ],
   "source": [
    "sys.path.append(os.path.abspath(os.path.join(os.getcwd(), os.pardir)))\n",
    "src_path = os.path.join(os.getcwd(), os.pardir, 'src')\n",
    "if src_path not in sys.path:\n",
    "    sys.path.append(src_path)\n",
    "print(\"Путь к src:\", src_path)\n"
   ]
  },
  {
   "cell_type": "code",
   "execution_count": 5,
   "id": "rd97hRmjogOY",
   "metadata": {
    "id": "rd97hRmjogOY"
   },
   "outputs": [],
   "source": [
    "from src.utils import information_data, aggregate_expert_ratings"
   ]
  },
  {
   "cell_type": "markdown",
   "id": "99489b26",
   "metadata": {
    "cellId": "n6vkjcacwu39w29bfocxt",
    "execution_id": "1b731a18-3394-4b62-b3f7-018692c2d6de",
    "id": "99489b26"
   },
   "source": [
    "## 1. Исследовательский анализ данных\n",
    "\n",
    "Датасет содержит экспертные и краудсорсинговые оценки соответствия текста и изображения.\n",
    "\n",
    "В файле с экспертными мнениями для каждой пары изображение-текст имеются оценки от трёх специалистов. Для решения задачи нужно эти оценки агрегировать — превратить в одну. Существует несколько способов агрегации оценок, самый простой — голосование большинства: за какую оценку проголосовала большая часть экспертов (в нашем случае 2 или 3), та оценка и ставится как итоговая. Поскольку число экспертов меньше числа классов, может случиться, что каждый эксперт поставит разные оценки, например: 1, 4, 2. В таком случае данную пару изображение-текст исключим из датасета.\n",
    "\n",
    "В файле с краудсорсинговыми оценками информация расположена в таком порядке:\n",
    "\n",
    "1. Доля исполнителей, подтвердивших, что текст **соответствует** картинке.\n",
    "2. Количество исполнителей, подтвердивших, что текст **соответствует** картинке.\n",
    "3. Количество исполнителей, подтвердивших, что текст **не соответствует** картинке.\n",
    "\n",
    "После анализа экспертных и краудсорсинговых оценок объединим их в одну по критерию: оценка эксперта принимается с коэффициентом 0.6, а крауда — с коэффициентом 0.4 и нормализуем. Если оценки экспертов нет, будем использовать оценку крауда из `fraction_confirmed`, она уже нормализована (от 0 до 1).\n",
    "\n",
    "Модель будет возвращать на выходе вероятность соответствия изображения тексту, поэтому целевая переменная имеет значения от 0 до 1.\n"
   ]
  },
  {
   "cell_type": "markdown",
   "id": "lsOMa86rjciG",
   "metadata": {
    "id": "lsOMa86rjciG"
   },
   "source": [
    "### `train_queries`"
   ]
  },
  {
   "cell_type": "code",
   "execution_count": 6,
   "id": "cU_N-KMgqPQT",
   "metadata": {
    "id": "cU_N-KMgqPQT"
   },
   "outputs": [],
   "source": [
    "data_path = os.path.join(os.getcwd(), os.pardir, 'data')\n",
    "train_images_path = os.path.join(data_path, 'train_images')\n",
    "test_images_path = os.path.join(data_path, 'test_images')"
   ]
  },
  {
   "cell_type": "code",
   "execution_count": 7,
   "id": "79250670",
   "metadata": {
    "cellId": "exl6m83oldxqlu1vq1s6",
    "colab": {
     "base_uri": "https://localhost:8080/",
     "height": 1000
    },
    "id": "79250670",
    "outputId": "e669a3d6-fa27-428e-b817-d2a2ee414305"
   },
   "outputs": [
    {
     "name": "stdout",
     "output_type": "stream",
     "text": [
      "Тренировочные запросы\n",
      "\n",
      "Первые десять строк датафрейма:\n"
     ]
    },
    {
     "data": {
      "text/html": [
       "<div>\n",
       "<style scoped>\n",
       "    .dataframe tbody tr th:only-of-type {\n",
       "        vertical-align: middle;\n",
       "    }\n",
       "\n",
       "    .dataframe tbody tr th {\n",
       "        vertical-align: top;\n",
       "    }\n",
       "\n",
       "    .dataframe thead th {\n",
       "        text-align: right;\n",
       "    }\n",
       "</style>\n",
       "<table border=\"1\" class=\"dataframe\">\n",
       "  <thead>\n",
       "    <tr style=\"text-align: right;\">\n",
       "      <th></th>\n",
       "      <th>image</th>\n",
       "      <th>query_id</th>\n",
       "      <th>query_text</th>\n",
       "    </tr>\n",
       "  </thead>\n",
       "  <tbody>\n",
       "    <tr>\n",
       "      <th>0</th>\n",
       "      <td>1056338697_4f7d7ce270.jpg</td>\n",
       "      <td>2549968784_39bfbe44f9.jpg#2</td>\n",
       "      <td>A young child is wearing blue goggles and sitt...</td>\n",
       "    </tr>\n",
       "    <tr>\n",
       "      <th>1</th>\n",
       "      <td>1262583859_653f1469a9.jpg</td>\n",
       "      <td>2549968784_39bfbe44f9.jpg#2</td>\n",
       "      <td>A young child is wearing blue goggles and sitt...</td>\n",
       "    </tr>\n",
       "    <tr>\n",
       "      <th>2</th>\n",
       "      <td>2447284966_d6bbdb4b6e.jpg</td>\n",
       "      <td>2549968784_39bfbe44f9.jpg#2</td>\n",
       "      <td>A young child is wearing blue goggles and sitt...</td>\n",
       "    </tr>\n",
       "    <tr>\n",
       "      <th>3</th>\n",
       "      <td>2549968784_39bfbe44f9.jpg</td>\n",
       "      <td>2549968784_39bfbe44f9.jpg#2</td>\n",
       "      <td>A young child is wearing blue goggles and sitt...</td>\n",
       "    </tr>\n",
       "    <tr>\n",
       "      <th>4</th>\n",
       "      <td>2621415349_ef1a7e73be.jpg</td>\n",
       "      <td>2549968784_39bfbe44f9.jpg#2</td>\n",
       "      <td>A young child is wearing blue goggles and sitt...</td>\n",
       "    </tr>\n",
       "    <tr>\n",
       "      <th>5</th>\n",
       "      <td>3030566410_393c36a6c5.jpg</td>\n",
       "      <td>2549968784_39bfbe44f9.jpg#2</td>\n",
       "      <td>A young child is wearing blue goggles and sitt...</td>\n",
       "    </tr>\n",
       "    <tr>\n",
       "      <th>6</th>\n",
       "      <td>3155451946_c0862c70cb.jpg</td>\n",
       "      <td>2549968784_39bfbe44f9.jpg#2</td>\n",
       "      <td>A young child is wearing blue goggles and sitt...</td>\n",
       "    </tr>\n",
       "    <tr>\n",
       "      <th>7</th>\n",
       "      <td>3222041930_f642f49d28.jpg</td>\n",
       "      <td>2549968784_39bfbe44f9.jpg#2</td>\n",
       "      <td>A young child is wearing blue goggles and sitt...</td>\n",
       "    </tr>\n",
       "    <tr>\n",
       "      <th>8</th>\n",
       "      <td>343218198_1ca90e0734.jpg</td>\n",
       "      <td>2549968784_39bfbe44f9.jpg#2</td>\n",
       "      <td>A young child is wearing blue goggles and sitt...</td>\n",
       "    </tr>\n",
       "    <tr>\n",
       "      <th>9</th>\n",
       "      <td>3718964174_cb2dc1615e.jpg</td>\n",
       "      <td>2549968784_39bfbe44f9.jpg#2</td>\n",
       "      <td>A young child is wearing blue goggles and sitt...</td>\n",
       "    </tr>\n",
       "  </tbody>\n",
       "</table>\n",
       "</div>"
      ],
      "text/plain": [
       "                       image                     query_id  \\\n",
       "0  1056338697_4f7d7ce270.jpg  2549968784_39bfbe44f9.jpg#2   \n",
       "1  1262583859_653f1469a9.jpg  2549968784_39bfbe44f9.jpg#2   \n",
       "2  2447284966_d6bbdb4b6e.jpg  2549968784_39bfbe44f9.jpg#2   \n",
       "3  2549968784_39bfbe44f9.jpg  2549968784_39bfbe44f9.jpg#2   \n",
       "4  2621415349_ef1a7e73be.jpg  2549968784_39bfbe44f9.jpg#2   \n",
       "5  3030566410_393c36a6c5.jpg  2549968784_39bfbe44f9.jpg#2   \n",
       "6  3155451946_c0862c70cb.jpg  2549968784_39bfbe44f9.jpg#2   \n",
       "7  3222041930_f642f49d28.jpg  2549968784_39bfbe44f9.jpg#2   \n",
       "8   343218198_1ca90e0734.jpg  2549968784_39bfbe44f9.jpg#2   \n",
       "9  3718964174_cb2dc1615e.jpg  2549968784_39bfbe44f9.jpg#2   \n",
       "\n",
       "                                          query_text  \n",
       "0  A young child is wearing blue goggles and sitt...  \n",
       "1  A young child is wearing blue goggles and sitt...  \n",
       "2  A young child is wearing blue goggles and sitt...  \n",
       "3  A young child is wearing blue goggles and sitt...  \n",
       "4  A young child is wearing blue goggles and sitt...  \n",
       "5  A young child is wearing blue goggles and sitt...  \n",
       "6  A young child is wearing blue goggles and sitt...  \n",
       "7  A young child is wearing blue goggles and sitt...  \n",
       "8  A young child is wearing blue goggles and sitt...  \n",
       "9  A young child is wearing blue goggles and sitt...  "
      ]
     },
     "metadata": {},
     "output_type": "display_data"
    },
    {
     "name": "stdout",
     "output_type": "stream",
     "text": [
      "Общая информация о датафрейме:\n",
      "<class 'pandas.core.frame.DataFrame'>\n",
      "RangeIndex: 5822 entries, 0 to 5821\n",
      "Data columns (total 3 columns):\n",
      " #   Column      Non-Null Count  Dtype \n",
      "---  ------      --------------  ----- \n",
      " 0   image       5822 non-null   object\n",
      " 1   query_id    5822 non-null   object\n",
      " 2   query_text  5822 non-null   object\n",
      "dtypes: object(3)\n",
      "memory usage: 136.6+ KB\n"
     ]
    },
    {
     "data": {
      "text/plain": [
       "None"
      ]
     },
     "metadata": {},
     "output_type": "display_data"
    },
    {
     "name": "stdout",
     "output_type": "stream",
     "text": [
      "Описание данных:\n"
     ]
    },
    {
     "data": {
      "text/html": [
       "<div>\n",
       "<style scoped>\n",
       "    .dataframe tbody tr th:only-of-type {\n",
       "        vertical-align: middle;\n",
       "    }\n",
       "\n",
       "    .dataframe tbody tr th {\n",
       "        vertical-align: top;\n",
       "    }\n",
       "\n",
       "    .dataframe thead th {\n",
       "        text-align: right;\n",
       "    }\n",
       "</style>\n",
       "<table border=\"1\" class=\"dataframe\">\n",
       "  <thead>\n",
       "    <tr style=\"text-align: right;\">\n",
       "      <th></th>\n",
       "      <th>image</th>\n",
       "      <th>query_id</th>\n",
       "      <th>query_text</th>\n",
       "    </tr>\n",
       "  </thead>\n",
       "  <tbody>\n",
       "    <tr>\n",
       "      <th>count</th>\n",
       "      <td>5822</td>\n",
       "      <td>5822</td>\n",
       "      <td>5822</td>\n",
       "    </tr>\n",
       "    <tr>\n",
       "      <th>unique</th>\n",
       "      <td>1000</td>\n",
       "      <td>977</td>\n",
       "      <td>977</td>\n",
       "    </tr>\n",
       "    <tr>\n",
       "      <th>top</th>\n",
       "      <td>3364151356_eecd07a23e.jpg</td>\n",
       "      <td>2600867924_cd502fc911.jpg#2</td>\n",
       "      <td>Two dogs , one brown and white and one black a...</td>\n",
       "    </tr>\n",
       "    <tr>\n",
       "      <th>freq</th>\n",
       "      <td>10</td>\n",
       "      <td>34</td>\n",
       "      <td>34</td>\n",
       "    </tr>\n",
       "  </tbody>\n",
       "</table>\n",
       "</div>"
      ],
      "text/plain": [
       "                            image                     query_id  \\\n",
       "count                        5822                         5822   \n",
       "unique                       1000                          977   \n",
       "top     3364151356_eecd07a23e.jpg  2600867924_cd502fc911.jpg#2   \n",
       "freq                           10                           34   \n",
       "\n",
       "                                               query_text  \n",
       "count                                                5822  \n",
       "unique                                                977  \n",
       "top     Two dogs , one brown and white and one black a...  \n",
       "freq                                                   34  "
      ]
     },
     "metadata": {},
     "output_type": "display_data"
    },
    {
     "name": "stdout",
     "output_type": "stream",
     "text": [
      "Количество пропусков:\n"
     ]
    },
    {
     "data": {
      "text/plain": [
       "image         0\n",
       "query_id      0\n",
       "query_text    0\n",
       "dtype: int64"
      ]
     },
     "metadata": {},
     "output_type": "display_data"
    },
    {
     "name": "stdout",
     "output_type": "stream",
     "text": [
      "Количество дубликатов:\n"
     ]
    },
    {
     "data": {
      "text/plain": [
       "0"
      ]
     },
     "metadata": {},
     "output_type": "display_data"
    }
   ],
   "source": [
    "train_queries = pd.read_csv(os.path.join(data_path, 'train_dataset.csv'))\n",
    "\n",
    "print('Тренировочные запросы', end='\\n\\n')\n",
    "information_data(train_queries)"
   ]
  },
  {
   "cell_type": "markdown",
   "id": "zV8zgF_vjrTV",
   "metadata": {
    "id": "zV8zgF_vjrTV"
   },
   "source": [
    "### `test_queries`"
   ]
  },
  {
   "cell_type": "code",
   "execution_count": 8,
   "id": "mK-GXQ0Rnn5P",
   "metadata": {
    "colab": {
     "base_uri": "https://localhost:8080/",
     "height": 1000
    },
    "id": "mK-GXQ0Rnn5P",
    "outputId": "dd926be7-dd66-4b4e-d857-ff49d0bf789f"
   },
   "outputs": [
    {
     "name": "stdout",
     "output_type": "stream",
     "text": [
      "Тестовые запросы\n",
      "\n",
      "Первые десять строк датафрейма:\n"
     ]
    },
    {
     "data": {
      "text/html": [
       "<div>\n",
       "<style scoped>\n",
       "    .dataframe tbody tr th:only-of-type {\n",
       "        vertical-align: middle;\n",
       "    }\n",
       "\n",
       "    .dataframe tbody tr th {\n",
       "        vertical-align: top;\n",
       "    }\n",
       "\n",
       "    .dataframe thead th {\n",
       "        text-align: right;\n",
       "    }\n",
       "</style>\n",
       "<table border=\"1\" class=\"dataframe\">\n",
       "  <thead>\n",
       "    <tr style=\"text-align: right;\">\n",
       "      <th></th>\n",
       "      <th>query_id</th>\n",
       "      <th>query_text</th>\n",
       "      <th>image</th>\n",
       "    </tr>\n",
       "  </thead>\n",
       "  <tbody>\n",
       "    <tr>\n",
       "      <th>0</th>\n",
       "      <td>1177994172_10d143cb8d.jpg#0</td>\n",
       "      <td>Two blonde boys , one in a camouflage shirt an...</td>\n",
       "      <td>1177994172_10d143cb8d.jpg</td>\n",
       "    </tr>\n",
       "    <tr>\n",
       "      <th>1</th>\n",
       "      <td>1177994172_10d143cb8d.jpg#1</td>\n",
       "      <td>Two boys are squirting water guns at each other .</td>\n",
       "      <td>1177994172_10d143cb8d.jpg</td>\n",
       "    </tr>\n",
       "    <tr>\n",
       "      <th>2</th>\n",
       "      <td>1177994172_10d143cb8d.jpg#2</td>\n",
       "      <td>Two boys spraying each other with water</td>\n",
       "      <td>1177994172_10d143cb8d.jpg</td>\n",
       "    </tr>\n",
       "    <tr>\n",
       "      <th>3</th>\n",
       "      <td>1177994172_10d143cb8d.jpg#3</td>\n",
       "      <td>Two children wearing jeans squirt water at eac...</td>\n",
       "      <td>1177994172_10d143cb8d.jpg</td>\n",
       "    </tr>\n",
       "    <tr>\n",
       "      <th>4</th>\n",
       "      <td>1177994172_10d143cb8d.jpg#4</td>\n",
       "      <td>Two young boys are squirting water at each oth...</td>\n",
       "      <td>1177994172_10d143cb8d.jpg</td>\n",
       "    </tr>\n",
       "    <tr>\n",
       "      <th>5</th>\n",
       "      <td>1232148178_4f45cc3284.jpg#0</td>\n",
       "      <td>A baby girl playing at a park .</td>\n",
       "      <td>1232148178_4f45cc3284.jpg</td>\n",
       "    </tr>\n",
       "    <tr>\n",
       "      <th>6</th>\n",
       "      <td>1232148178_4f45cc3284.jpg#1</td>\n",
       "      <td>A closeup of a child on a playground with adul...</td>\n",
       "      <td>1232148178_4f45cc3284.jpg</td>\n",
       "    </tr>\n",
       "    <tr>\n",
       "      <th>7</th>\n",
       "      <td>1232148178_4f45cc3284.jpg#2</td>\n",
       "      <td>A young boy poses for a picture in front of a ...</td>\n",
       "      <td>1232148178_4f45cc3284.jpg</td>\n",
       "    </tr>\n",
       "    <tr>\n",
       "      <th>8</th>\n",
       "      <td>1232148178_4f45cc3284.jpg#3</td>\n",
       "      <td>A young girl is smiling in front of the camera...</td>\n",
       "      <td>1232148178_4f45cc3284.jpg</td>\n",
       "    </tr>\n",
       "    <tr>\n",
       "      <th>9</th>\n",
       "      <td>1232148178_4f45cc3284.jpg#4</td>\n",
       "      <td>There is a little blond hair girl with a green...</td>\n",
       "      <td>1232148178_4f45cc3284.jpg</td>\n",
       "    </tr>\n",
       "  </tbody>\n",
       "</table>\n",
       "</div>"
      ],
      "text/plain": [
       "                      query_id  \\\n",
       "0  1177994172_10d143cb8d.jpg#0   \n",
       "1  1177994172_10d143cb8d.jpg#1   \n",
       "2  1177994172_10d143cb8d.jpg#2   \n",
       "3  1177994172_10d143cb8d.jpg#3   \n",
       "4  1177994172_10d143cb8d.jpg#4   \n",
       "5  1232148178_4f45cc3284.jpg#0   \n",
       "6  1232148178_4f45cc3284.jpg#1   \n",
       "7  1232148178_4f45cc3284.jpg#2   \n",
       "8  1232148178_4f45cc3284.jpg#3   \n",
       "9  1232148178_4f45cc3284.jpg#4   \n",
       "\n",
       "                                          query_text  \\\n",
       "0  Two blonde boys , one in a camouflage shirt an...   \n",
       "1  Two boys are squirting water guns at each other .   \n",
       "2            Two boys spraying each other with water   \n",
       "3  Two children wearing jeans squirt water at eac...   \n",
       "4  Two young boys are squirting water at each oth...   \n",
       "5                    A baby girl playing at a park .   \n",
       "6  A closeup of a child on a playground with adul...   \n",
       "7  A young boy poses for a picture in front of a ...   \n",
       "8  A young girl is smiling in front of the camera...   \n",
       "9  There is a little blond hair girl with a green...   \n",
       "\n",
       "                       image  \n",
       "0  1177994172_10d143cb8d.jpg  \n",
       "1  1177994172_10d143cb8d.jpg  \n",
       "2  1177994172_10d143cb8d.jpg  \n",
       "3  1177994172_10d143cb8d.jpg  \n",
       "4  1177994172_10d143cb8d.jpg  \n",
       "5  1232148178_4f45cc3284.jpg  \n",
       "6  1232148178_4f45cc3284.jpg  \n",
       "7  1232148178_4f45cc3284.jpg  \n",
       "8  1232148178_4f45cc3284.jpg  \n",
       "9  1232148178_4f45cc3284.jpg  "
      ]
     },
     "metadata": {},
     "output_type": "display_data"
    },
    {
     "name": "stdout",
     "output_type": "stream",
     "text": [
      "Общая информация о датафрейме:\n",
      "<class 'pandas.core.frame.DataFrame'>\n",
      "Index: 500 entries, 0 to 499\n",
      "Data columns (total 3 columns):\n",
      " #   Column      Non-Null Count  Dtype \n",
      "---  ------      --------------  ----- \n",
      " 0   query_id    500 non-null    object\n",
      " 1   query_text  500 non-null    object\n",
      " 2   image       500 non-null    object\n",
      "dtypes: object(3)\n",
      "memory usage: 15.6+ KB\n"
     ]
    },
    {
     "data": {
      "text/plain": [
       "None"
      ]
     },
     "metadata": {},
     "output_type": "display_data"
    },
    {
     "name": "stdout",
     "output_type": "stream",
     "text": [
      "Описание данных:\n"
     ]
    },
    {
     "data": {
      "text/html": [
       "<div>\n",
       "<style scoped>\n",
       "    .dataframe tbody tr th:only-of-type {\n",
       "        vertical-align: middle;\n",
       "    }\n",
       "\n",
       "    .dataframe tbody tr th {\n",
       "        vertical-align: top;\n",
       "    }\n",
       "\n",
       "    .dataframe thead th {\n",
       "        text-align: right;\n",
       "    }\n",
       "</style>\n",
       "<table border=\"1\" class=\"dataframe\">\n",
       "  <thead>\n",
       "    <tr style=\"text-align: right;\">\n",
       "      <th></th>\n",
       "      <th>query_id</th>\n",
       "      <th>query_text</th>\n",
       "      <th>image</th>\n",
       "    </tr>\n",
       "  </thead>\n",
       "  <tbody>\n",
       "    <tr>\n",
       "      <th>count</th>\n",
       "      <td>500</td>\n",
       "      <td>500</td>\n",
       "      <td>500</td>\n",
       "    </tr>\n",
       "    <tr>\n",
       "      <th>unique</th>\n",
       "      <td>500</td>\n",
       "      <td>500</td>\n",
       "      <td>100</td>\n",
       "    </tr>\n",
       "    <tr>\n",
       "      <th>top</th>\n",
       "      <td>1177994172_10d143cb8d.jpg#0</td>\n",
       "      <td>Two blonde boys , one in a camouflage shirt an...</td>\n",
       "      <td>1177994172_10d143cb8d.jpg</td>\n",
       "    </tr>\n",
       "    <tr>\n",
       "      <th>freq</th>\n",
       "      <td>1</td>\n",
       "      <td>1</td>\n",
       "      <td>5</td>\n",
       "    </tr>\n",
       "  </tbody>\n",
       "</table>\n",
       "</div>"
      ],
      "text/plain": [
       "                           query_id  \\\n",
       "count                           500   \n",
       "unique                          500   \n",
       "top     1177994172_10d143cb8d.jpg#0   \n",
       "freq                              1   \n",
       "\n",
       "                                               query_text  \\\n",
       "count                                                 500   \n",
       "unique                                                500   \n",
       "top     Two blonde boys , one in a camouflage shirt an...   \n",
       "freq                                                    1   \n",
       "\n",
       "                            image  \n",
       "count                         500  \n",
       "unique                        100  \n",
       "top     1177994172_10d143cb8d.jpg  \n",
       "freq                            5  "
      ]
     },
     "metadata": {},
     "output_type": "display_data"
    },
    {
     "name": "stdout",
     "output_type": "stream",
     "text": [
      "Количество пропусков:\n"
     ]
    },
    {
     "data": {
      "text/plain": [
       "query_id      0\n",
       "query_text    0\n",
       "image         0\n",
       "dtype: int64"
      ]
     },
     "metadata": {},
     "output_type": "display_data"
    },
    {
     "name": "stdout",
     "output_type": "stream",
     "text": [
      "Количество дубликатов:\n"
     ]
    },
    {
     "data": {
      "text/plain": [
       "0"
      ]
     },
     "metadata": {},
     "output_type": "display_data"
    }
   ],
   "source": [
    "test_queries = pd.read_csv(os.path.join(data_path, 'test_queries.csv'), sep='|', index_col=0)\n",
    "\n",
    "print('Тестовые запросы', end='\\n\\n')\n",
    "information_data(test_queries)"
   ]
  },
  {
   "cell_type": "markdown",
   "id": "qeQCTlR6rEk-",
   "metadata": {
    "id": "qeQCTlR6rEk-"
   },
   "source": [
    "Обе выборки (обучающая и тестовая) имеют одинаковую структуру – содержат три столбца: идентификатор запроса (query_id), текст запроса (query_text) и название изображения (image).\n",
    "\n",
    "Тестовая выборка:\n",
    "\n",
    "Состоит из 500 записей, все значения уникальны.\n",
    "Пропусков и дубликатов нет, что обеспечивает чистоту данных для тестирования модели.\n",
    "\n",
    "Обучающая выборка:\n",
    "\n",
    "Включает 5822 записи.\n",
    "Количество уникальных значений немного отличается: имеется 1000 уникальных изображений и 977 уникальных запросов.\n",
    "Также не содержит пропусков или дубликатов, что гарантирует корректное обучение модели.\n",
    "Таким образом, обе выборки структурно идентичны и готовы для дальнейшей обработки при обучении и тестировании модели."
   ]
  },
  {
   "cell_type": "markdown",
   "id": "zw-yuG6OQJgn",
   "metadata": {
    "id": "zw-yuG6OQJgn"
   },
   "source": []
  },
  {
   "cell_type": "markdown",
   "id": "C35RnZqAjhdn",
   "metadata": {
    "id": "C35RnZqAjhdn"
   },
   "source": [
    "### `crowd_df`"
   ]
  },
  {
   "cell_type": "code",
   "execution_count": 9,
   "id": "tYMb-3fibQ6X",
   "metadata": {
    "colab": {
     "base_uri": "https://localhost:8080/",
     "height": 1000
    },
    "id": "tYMb-3fibQ6X",
    "outputId": "6f3e671a-4815-4118-f218-005ea276fcf4"
   },
   "outputs": [
    {
     "name": "stdout",
     "output_type": "stream",
     "text": [
      "Краудсорсинговые оценки\n",
      "\n",
      "Первые десять строк датафрейма:\n"
     ]
    },
    {
     "data": {
      "text/html": [
       "<div>\n",
       "<style scoped>\n",
       "    .dataframe tbody tr th:only-of-type {\n",
       "        vertical-align: middle;\n",
       "    }\n",
       "\n",
       "    .dataframe tbody tr th {\n",
       "        vertical-align: top;\n",
       "    }\n",
       "\n",
       "    .dataframe thead th {\n",
       "        text-align: right;\n",
       "    }\n",
       "</style>\n",
       "<table border=\"1\" class=\"dataframe\">\n",
       "  <thead>\n",
       "    <tr style=\"text-align: right;\">\n",
       "      <th></th>\n",
       "      <th>image</th>\n",
       "      <th>query_id</th>\n",
       "      <th>fraction_confirmed</th>\n",
       "      <th>num_confirmed</th>\n",
       "      <th>num_rejected</th>\n",
       "    </tr>\n",
       "  </thead>\n",
       "  <tbody>\n",
       "    <tr>\n",
       "      <th>0</th>\n",
       "      <td>1056338697_4f7d7ce270.jpg</td>\n",
       "      <td>114051287_dd85625a04.jpg#2</td>\n",
       "      <td>0.000000</td>\n",
       "      <td>0</td>\n",
       "      <td>3</td>\n",
       "    </tr>\n",
       "    <tr>\n",
       "      <th>1</th>\n",
       "      <td>1056338697_4f7d7ce270.jpg</td>\n",
       "      <td>1427391496_ea512cbe7f.jpg#2</td>\n",
       "      <td>0.000000</td>\n",
       "      <td>0</td>\n",
       "      <td>3</td>\n",
       "    </tr>\n",
       "    <tr>\n",
       "      <th>2</th>\n",
       "      <td>1056338697_4f7d7ce270.jpg</td>\n",
       "      <td>2073964624_52da3a0fc4.jpg#2</td>\n",
       "      <td>0.000000</td>\n",
       "      <td>0</td>\n",
       "      <td>3</td>\n",
       "    </tr>\n",
       "    <tr>\n",
       "      <th>3</th>\n",
       "      <td>1056338697_4f7d7ce270.jpg</td>\n",
       "      <td>2083434441_a93bc6306b.jpg#2</td>\n",
       "      <td>0.000000</td>\n",
       "      <td>0</td>\n",
       "      <td>3</td>\n",
       "    </tr>\n",
       "    <tr>\n",
       "      <th>4</th>\n",
       "      <td>1056338697_4f7d7ce270.jpg</td>\n",
       "      <td>2204550058_2707d92338.jpg#2</td>\n",
       "      <td>0.000000</td>\n",
       "      <td>0</td>\n",
       "      <td>3</td>\n",
       "    </tr>\n",
       "    <tr>\n",
       "      <th>5</th>\n",
       "      <td>1056338697_4f7d7ce270.jpg</td>\n",
       "      <td>2224450291_4c133fabe8.jpg#2</td>\n",
       "      <td>0.000000</td>\n",
       "      <td>0</td>\n",
       "      <td>3</td>\n",
       "    </tr>\n",
       "    <tr>\n",
       "      <th>6</th>\n",
       "      <td>1056338697_4f7d7ce270.jpg</td>\n",
       "      <td>2248487950_c62d0c81a9.jpg#2</td>\n",
       "      <td>0.333333</td>\n",
       "      <td>1</td>\n",
       "      <td>2</td>\n",
       "    </tr>\n",
       "    <tr>\n",
       "      <th>7</th>\n",
       "      <td>1056338697_4f7d7ce270.jpg</td>\n",
       "      <td>2307118114_c258e3a47e.jpg#2</td>\n",
       "      <td>0.000000</td>\n",
       "      <td>0</td>\n",
       "      <td>3</td>\n",
       "    </tr>\n",
       "    <tr>\n",
       "      <th>8</th>\n",
       "      <td>1056338697_4f7d7ce270.jpg</td>\n",
       "      <td>2309860995_c2e2a0feeb.jpg#2</td>\n",
       "      <td>0.000000</td>\n",
       "      <td>0</td>\n",
       "      <td>3</td>\n",
       "    </tr>\n",
       "    <tr>\n",
       "      <th>9</th>\n",
       "      <td>1056338697_4f7d7ce270.jpg</td>\n",
       "      <td>2436081047_bca044c1d3.jpg#2</td>\n",
       "      <td>0.000000</td>\n",
       "      <td>0</td>\n",
       "      <td>3</td>\n",
       "    </tr>\n",
       "  </tbody>\n",
       "</table>\n",
       "</div>"
      ],
      "text/plain": [
       "                       image                     query_id  fraction_confirmed  \\\n",
       "0  1056338697_4f7d7ce270.jpg   114051287_dd85625a04.jpg#2            0.000000   \n",
       "1  1056338697_4f7d7ce270.jpg  1427391496_ea512cbe7f.jpg#2            0.000000   \n",
       "2  1056338697_4f7d7ce270.jpg  2073964624_52da3a0fc4.jpg#2            0.000000   \n",
       "3  1056338697_4f7d7ce270.jpg  2083434441_a93bc6306b.jpg#2            0.000000   \n",
       "4  1056338697_4f7d7ce270.jpg  2204550058_2707d92338.jpg#2            0.000000   \n",
       "5  1056338697_4f7d7ce270.jpg  2224450291_4c133fabe8.jpg#2            0.000000   \n",
       "6  1056338697_4f7d7ce270.jpg  2248487950_c62d0c81a9.jpg#2            0.333333   \n",
       "7  1056338697_4f7d7ce270.jpg  2307118114_c258e3a47e.jpg#2            0.000000   \n",
       "8  1056338697_4f7d7ce270.jpg  2309860995_c2e2a0feeb.jpg#2            0.000000   \n",
       "9  1056338697_4f7d7ce270.jpg  2436081047_bca044c1d3.jpg#2            0.000000   \n",
       "\n",
       "   num_confirmed  num_rejected  \n",
       "0              0             3  \n",
       "1              0             3  \n",
       "2              0             3  \n",
       "3              0             3  \n",
       "4              0             3  \n",
       "5              0             3  \n",
       "6              1             2  \n",
       "7              0             3  \n",
       "8              0             3  \n",
       "9              0             3  "
      ]
     },
     "metadata": {},
     "output_type": "display_data"
    },
    {
     "name": "stdout",
     "output_type": "stream",
     "text": [
      "Общая информация о датафрейме:\n",
      "<class 'pandas.core.frame.DataFrame'>\n",
      "RangeIndex: 47829 entries, 0 to 47828\n",
      "Data columns (total 5 columns):\n",
      " #   Column              Non-Null Count  Dtype  \n",
      "---  ------              --------------  -----  \n",
      " 0   image               47829 non-null  object \n",
      " 1   query_id            47829 non-null  object \n",
      " 2   fraction_confirmed  47829 non-null  float64\n",
      " 3   num_confirmed       47829 non-null  int64  \n",
      " 4   num_rejected        47829 non-null  int64  \n",
      "dtypes: float64(1), int64(2), object(2)\n",
      "memory usage: 1.8+ MB\n"
     ]
    },
    {
     "data": {
      "text/plain": [
       "None"
      ]
     },
     "metadata": {},
     "output_type": "display_data"
    },
    {
     "name": "stdout",
     "output_type": "stream",
     "text": [
      "Описание данных:\n"
     ]
    },
    {
     "data": {
      "text/html": [
       "<div>\n",
       "<style scoped>\n",
       "    .dataframe tbody tr th:only-of-type {\n",
       "        vertical-align: middle;\n",
       "    }\n",
       "\n",
       "    .dataframe tbody tr th {\n",
       "        vertical-align: top;\n",
       "    }\n",
       "\n",
       "    .dataframe thead th {\n",
       "        text-align: right;\n",
       "    }\n",
       "</style>\n",
       "<table border=\"1\" class=\"dataframe\">\n",
       "  <thead>\n",
       "    <tr style=\"text-align: right;\">\n",
       "      <th></th>\n",
       "      <th>fraction_confirmed</th>\n",
       "      <th>num_confirmed</th>\n",
       "      <th>num_rejected</th>\n",
       "    </tr>\n",
       "  </thead>\n",
       "  <tbody>\n",
       "    <tr>\n",
       "      <th>count</th>\n",
       "      <td>47829.000000</td>\n",
       "      <td>47829.000000</td>\n",
       "      <td>47829.000000</td>\n",
       "    </tr>\n",
       "    <tr>\n",
       "      <th>mean</th>\n",
       "      <td>0.068766</td>\n",
       "      <td>0.208430</td>\n",
       "      <td>2.820214</td>\n",
       "    </tr>\n",
       "    <tr>\n",
       "      <th>std</th>\n",
       "      <td>0.207490</td>\n",
       "      <td>0.628775</td>\n",
       "      <td>0.656556</td>\n",
       "    </tr>\n",
       "    <tr>\n",
       "      <th>min</th>\n",
       "      <td>0.000000</td>\n",
       "      <td>0.000000</td>\n",
       "      <td>0.000000</td>\n",
       "    </tr>\n",
       "    <tr>\n",
       "      <th>25%</th>\n",
       "      <td>0.000000</td>\n",
       "      <td>0.000000</td>\n",
       "      <td>3.000000</td>\n",
       "    </tr>\n",
       "    <tr>\n",
       "      <th>50%</th>\n",
       "      <td>0.000000</td>\n",
       "      <td>0.000000</td>\n",
       "      <td>3.000000</td>\n",
       "    </tr>\n",
       "    <tr>\n",
       "      <th>75%</th>\n",
       "      <td>0.000000</td>\n",
       "      <td>0.000000</td>\n",
       "      <td>3.000000</td>\n",
       "    </tr>\n",
       "    <tr>\n",
       "      <th>max</th>\n",
       "      <td>1.000000</td>\n",
       "      <td>5.000000</td>\n",
       "      <td>6.000000</td>\n",
       "    </tr>\n",
       "  </tbody>\n",
       "</table>\n",
       "</div>"
      ],
      "text/plain": [
       "       fraction_confirmed  num_confirmed  num_rejected\n",
       "count        47829.000000   47829.000000  47829.000000\n",
       "mean             0.068766       0.208430      2.820214\n",
       "std              0.207490       0.628775      0.656556\n",
       "min              0.000000       0.000000      0.000000\n",
       "25%              0.000000       0.000000      3.000000\n",
       "50%              0.000000       0.000000      3.000000\n",
       "75%              0.000000       0.000000      3.000000\n",
       "max              1.000000       5.000000      6.000000"
      ]
     },
     "metadata": {},
     "output_type": "display_data"
    },
    {
     "name": "stdout",
     "output_type": "stream",
     "text": [
      "Количество пропусков:\n"
     ]
    },
    {
     "data": {
      "text/plain": [
       "image                 0\n",
       "query_id              0\n",
       "fraction_confirmed    0\n",
       "num_confirmed         0\n",
       "num_rejected          0\n",
       "dtype: int64"
      ]
     },
     "metadata": {},
     "output_type": "display_data"
    },
    {
     "name": "stdout",
     "output_type": "stream",
     "text": [
      "Количество дубликатов:\n"
     ]
    },
    {
     "data": {
      "text/plain": [
       "0"
      ]
     },
     "metadata": {},
     "output_type": "display_data"
    }
   ],
   "source": [
    "column_names = ['image', 'query_id', 'fraction_confirmed', 'num_confirmed', 'num_rejected']\n",
    "crowd_df = pd.read_csv(os.path.join(data_path, 'CrowdAnnotations.tsv'), sep='\\t', names=column_names,\n",
    "                       header=0)\n",
    "\n",
    "print('Краудсорсинговые оценки', end='\\n\\n')\n",
    "information_data(crowd_df)\n"
   ]
  },
  {
   "cell_type": "code",
   "execution_count": null,
   "id": "S2J4p1c93GRk",
   "metadata": {
    "colab": {
     "base_uri": "https://localhost:8080/",
     "height": 423
    },
    "id": "S2J4p1c93GRk",
    "outputId": "b57f5873-3cdf-402b-8184-1130c8e51aee"
   },
   "outputs": [],
   "source": [
    "# Настройки графиков\n",
    "sns.set(style=\"whitegrid\")\n",
    "\n",
    "# Графики для crowd_df\n",
    "fig, axes = plt.subplots(1, 3, figsize=(18, 5))\n",
    "\n",
    "sns.histplot(crowd_df['fraction_confirmed'], bins=20, kde=True, ax=axes[0])\n",
    "axes[0].set_title('Распределение fraction_confirmed')\n",
    "\n",
    "sns.histplot(crowd_df['num_confirmed'], bins=range(0, crowd_df['num_confirmed'].max() + 1), kde=False, ax=axes[1])\n",
    "axes[1].set_title('Распределение num_confirmed')\n",
    "\n",
    "sns.histplot(crowd_df['num_rejected'], bins=range(0, crowd_df['num_rejected'].max() + 1), kde=False, ax=axes[2])\n",
    "axes[2].set_title('Распределение num_rejected')\n",
    "\n",
    "plt.tight_layout()\n",
    "plt.show()"
   ]
  },
  {
   "cell_type": "markdown",
   "id": "wpBjVPH4jlvV",
   "metadata": {
    "id": "wpBjVPH4jlvV"
   },
   "source": [
    "### `expert_df`"
   ]
  },
  {
   "cell_type": "code",
   "execution_count": null,
   "id": "3OVBq9ZxdUl2",
   "metadata": {
    "colab": {
     "base_uri": "https://localhost:8080/",
     "height": 1000
    },
    "id": "3OVBq9ZxdUl2",
    "outputId": "e3d26aa5-df96-412b-f9e9-eeececbacefb"
   },
   "outputs": [],
   "source": [
    "column_names = ['image', 'query_id', 'expert_1', 'expert_2', 'expert_3']\n",
    "expert_df = pd.read_csv(os.path.join(data_path, 'ExpertAnnotations.tsv'), sep='\\t', names=column_names, header=0)\n",
    "\n",
    "print('Оценки экспертов', end='\\n\\n')\n",
    "information_data(expert_df)"
   ]
  },
  {
   "cell_type": "code",
   "execution_count": null,
   "id": "vTEtcjho3WLI",
   "metadata": {
    "colab": {
     "base_uri": "https://localhost:8080/",
     "height": 541
    },
    "id": "vTEtcjho3WLI",
    "outputId": "a34622d0-d3f2-4ccc-dfa3-aad57c068003"
   },
   "outputs": [],
   "source": [
    "# Графики для expert_df\n",
    "fig, ax = plt.subplots(figsize=(8, 5))\n",
    "\n",
    "expert_scores = expert_df[['expert_1', 'expert_2', 'expert_3']].values.flatten()\n",
    "sns.histplot(expert_scores, bins=range(1, expert_scores.max() + 2), kde=False)\n",
    "ax.set_title('Распределение оценок экспертов')\n",
    "ax.set_xticks(range(1, expert_scores.max() + 1))\n"
   ]
  },
  {
   "cell_type": "markdown",
   "id": "T06AW5nTXvoJ",
   "metadata": {
    "id": "T06AW5nTXvoJ"
   },
   "source": [
    "Проверим связь между `query_id` и `image`:\n",
    "\n",
    "Для этого разделим `query_id` по `#` и выделяем `image`.\n",
    "Проверим, есть ли несовпадения между `image` в `query_id` и выделенным `image_from_query`.\n",
    "\n",
    "И проверим полноту соответствий между изображениями и запросами: есть ли `image`, которые не встречаются в `query_id`, и наоборот."
   ]
  },
  {
   "cell_type": "code",
   "execution_count": null,
   "id": "tKauZFdmPs8c",
   "metadata": {
    "colab": {
     "base_uri": "https://localhost:8080/"
    },
    "id": "tKauZFdmPs8c",
    "outputId": "d26971bb-c35b-483f-b030-0d3e6470bee5"
   },
   "outputs": [],
   "source": [
    "crowd_df['image_from_query'] = crowd_df['query_id'].str.split('#').str[0]\n",
    "expert_df['image_from_query'] = expert_df['query_id'].str.split('#').str[0]\n",
    "\n",
    "# Проверяем, совпадают ли image и query_image\n",
    "crowd_mismatch = crowd_df[crowd_df['image_from_query'] != crowd_df['image_from_query']]\n",
    "expert_mismatch = expert_df[expert_df['image_from_query'] != expert_df['image_from_query']]\n",
    "\n",
    "print(f'Несовпадения в CrowdAnnotations: {len(crowd_mismatch)}')\n",
    "print(f'Несовпадения в ExpertAnnotations: {len(expert_mismatch)}')\n",
    "\n",
    "# Проверяем, есть ли images, которых нет в query_id, и наоборот\n",
    "unique_images_crowd = set(crowd_df['image_from_query'].unique())\n",
    "unique_queries_crowd = set(crowd_df['image_from_query'].unique())\n",
    "missing_images_crowd = unique_queries_crowd - unique_images_crowd\n",
    "\n",
    "unique_images_expert = set(expert_df['image_from_query'].unique())\n",
    "unique_queries_expert = set(expert_df['image_from_query'].unique())\n",
    "missing_images_expert = unique_queries_expert - unique_images_expert\n",
    "\n",
    "print(f'Изображений без query_id в CrowdAnnotations: {len(missing_images_crowd)}')\n",
    "print(f'Изображений без query_id в ExpertAnnotations: {len(missing_images_expert)}')"
   ]
  },
  {
   "cell_type": "markdown",
   "id": "XwggkpssysgB",
   "metadata": {
    "id": "XwggkpssysgB"
   },
   "source": [
    "Заключение по датасетам оценок:\n",
    "\n",
    "В датасете краудсорсинговых оценок представлено 47 829 записей, каждая из которых содержит имя изображения, идентификатор описания и статистику подтверждения соответствия (доля подтверждений, число подтверждений и число отказов). Значения подтверждения в большинстве случаев равны нулю, что указывает на низкую согласованность оценок для большинства пар «изображение–описание».\n",
    "\n",
    "В датасете экспертных оценок содержится 5 821 запись с тремя оценками от экспертов по шкале от 1 до 4. Экспертные оценки, в отличие от краудсорсинговых, характеризуются более высокой согласованностью и, в среднем, ниже значениями (близкими к минимальному порогу), что свидетельствует о строгом подходе экспертов к оценке соответствия.\n",
    "\n",
    "Оба датасета не содержат пропусков и дубликатов, что гарантирует корректность данных для последующего анализа и обучения модели.\n",
    "\n",
    "Несовпадений нет (все `image` правильно извлекаются из `query_id`).\n",
    "\n",
    "Все изображения имеют `query_id`, пропусков нет.\n",
    "Вывод: данные корректны, `image` и `query_id` связаны ожидаемым образом."
   ]
  },
  {
   "cell_type": "markdown",
   "id": "Z_YMHAhC9k0L",
   "metadata": {
    "id": "Z_YMHAhC9k0L"
   },
   "source": [
    "### `final_df`"
   ]
  },
  {
   "cell_type": "markdown",
   "id": "Ulvzbosr0etj",
   "metadata": {
    "id": "Ulvzbosr0etj"
   },
   "source": [
    "Агрегируем оценки соответствия описаний изображениям следующим образом:\n",
    "\n",
    "Агрегация оценок:\n",
    "\n",
    "Для пар с экспертными оценками:\n",
    "\n",
    "Рассчитаем итоговую оценку по голосованию большинства, нормализуем её.\n",
    "Рассчитаем итоговую оценку как\n",
    "\n",
    "$ 0.7 × $ `expert_norm`$ + 0.3 × $ `fraction_confirmed`\n",
    "\n",
    "Для пар без экспертных оценок используем крауд-оценку\n",
    "\n",
    "Объединение датасетов:\n",
    "\n",
    "Соберем итоговую таблицу, где для каждой пары «изображение–описание» будет указана итоговая оценка. При этом, если требуется, можно добавить отдельные колонки для экспертных и крауд оценок как дополнительные признаки, но итоговая агрегированная оценка должна стать целевой переменной."
   ]
  },
  {
   "cell_type": "code",
   "execution_count": null,
   "id": "DGFxaG2KNngy",
   "metadata": {
    "id": "DGFxaG2KNngy"
   },
   "outputs": [],
   "source": [
    "# 1. Агрегируем экспертные оценки\n",
    "expert_df['expert_score'] = expert_df.apply(aggregate_expert_ratings, axis=1)\n",
    "# expert_df.drop(columns=['expert_1', 'expert_2', 'expert_3'], inplace=True)  # Удаляем исходные колонки\n",
    "expert_df.dropna(subset=['expert_score'], inplace=True)  # Убираем строки с противоречивыми оценками"
   ]
  },
  {
   "cell_type": "code",
   "execution_count": null,
   "id": "xoZG96CYhSem",
   "metadata": {
    "id": "xoZG96CYhSem"
   },
   "outputs": [],
   "source": [
    "# 2. Нормализуем экспертные оценки (min=1, max=4 -> от 0 до 1)\n",
    "expert_df['expert_score_norm'] = (expert_df['expert_score'] - 1) / 3"
   ]
  },
  {
   "cell_type": "code",
   "execution_count": null,
   "id": "06qSdixlkkg1",
   "metadata": {
    "id": "06qSdixlkkg1"
   },
   "outputs": [],
   "source": [
    "# 3. Объединяем датасеты\n",
    "merged_df = pd.merge(expert_df, crowd_df, on=['image', 'query_id'], how='left')"
   ]
  },
  {
   "cell_type": "code",
   "execution_count": null,
   "id": "26Z2o3lmkkal",
   "metadata": {
    "colab": {
     "base_uri": "https://localhost:8080/",
     "height": 547
    },
    "id": "26Z2o3lmkkal",
    "outputId": "cfede5dd-e02a-4488-c146-3fed2b1ea578"
   },
   "outputs": [],
   "source": [
    "# 4. Если есть обе оценки - берем взвешенное среднее\n",
    "mask = (~merged_df['expert_score_norm'].isna()) & (~merged_df['fraction_confirmed'].isna())\n",
    "merged_df.loc[mask, 'final_score'] = (\n",
    "    0.7 * merged_df.loc[mask, 'expert_score_norm'] + 0.3 * merged_df.loc[mask, 'fraction_confirmed']\n",
    ")"
   ]
  },
  {
   "cell_type": "code",
   "execution_count": null,
   "id": "KP4dDr_JknYd",
   "metadata": {
    "id": "KP4dDr_JknYd"
   },
   "outputs": [],
   "source": [
    "# 5. Если есть только одна из оценок, используем её\n",
    "merged_df['final_score'] = merged_df['final_score'].combine_first(\n",
    "    merged_df['expert_score_norm'].combine_first(merged_df['fraction_confirmed'])\n",
    ")"
   ]
  },
  {
   "cell_type": "code",
   "execution_count": null,
   "id": "i9sgTCRQkkH6",
   "metadata": {
    "id": "i9sgTCRQkkH6"
   },
   "outputs": [],
   "source": [
    "# 6. Оставляем только нужные столбцы\n",
    "final_df = merged_df[['image', 'query_id', 'final_score']]"
   ]
  },
  {
   "cell_type": "markdown",
   "id": "UO8Pd1Mq7sSP",
   "metadata": {
    "id": "UO8Pd1Mq7sSP"
   },
   "source": [
    "Посмотрим на распределение таргета на гистограмме"
   ]
  },
  {
   "cell_type": "code",
   "execution_count": null,
   "id": "YI7zcr3-WCSM",
   "metadata": {
    "id": "YI7zcr3-WCSM"
   },
   "outputs": [],
   "source": [
    "plt.figure(figsize=(8, 5))\n",
    "sns.histplot(final_df['final_score'], bins=30, kde=True, color='royalblue')\n",
    "plt.xlabel('Final Score')\n",
    "plt.ylabel('Count')\n",
    "plt.title('Distribution of Final Score')\n",
    "plt.grid(True)\n",
    "plt.show()\n"
   ]
  },
  {
   "cell_type": "code",
   "execution_count": null,
   "id": "UrUPDLNqQ1FT",
   "metadata": {
    "id": "UrUPDLNqQ1FT"
   },
   "outputs": [],
   "source": [
    "information_data(final_df)"
   ]
  },
  {
   "cell_type": "markdown",
   "id": "08a1b152",
   "metadata": {},
   "source": [
    "Итоговый датасет содержит 5695 записей, каждая из которых представляет собой пару изображение-описание с оценкой соответствия (final_score), рассчитанной на основе экспертных и краудсорсинговых оценок.\n",
    "\n",
    "Общие характеристики датасета:\n",
    "- Всего строк: 5695\n",
    "- Количество уникальных изображений: 1000\n",
    "- Количество уникальных описаний: 977\n",
    "- Количество пропущенных значений: 0\n",
    "- Количество дубликатов: 0\n",
    "\n",
    "Распределение таргета (final_score)\n",
    "- Средняя оценка: 0.18\n",
    "- Медиана: 0.00 (то есть большинство описаний слабо соответствуют изображениям)\n",
    "- Стандартное отклонение: 0.27\n",
    "- Минимальное значение: 0.00\n",
    "- Максимальное значение: 1.00\n",
    "- 25-й процентиль: 0.00\n",
    "- 75-й процентиль: 0.33\n",
    "\n",
    "Можно видеть, что медиана равна 0, а 75% значений ниже 0.33, что говорит о том, что значительная часть пар \"изображение-описание\" была оценена низко. Однако есть небольшое количество примеров с высоким соответствием.\n",
    "\n",
    "Качество соответствия изображений и описаний\n",
    "\n",
    "Примеры данных показывают, что некоторые описания полностью не соответствуют изображениям (оценка 0), в то время как другие имеют частичное или полное совпадение (0.33 и выше). Оставим пока в таком виде: обучение на отрицательных примерах также важно, потому что модель должна не только определять соответствие изображения и текста, но и понимать, когда описание не соответствует изображению. Это позволит ей лучше различать релевантные и нерелевантные пары. В дальнейшем можно будет поэспериментировать с порогами классов и понаблюдать, как будет меняться метрика.\n",
    "\n",
    "Следующие шаги\n",
    "\n",
    "- Очистить датасет от изображений, содержащих несовершеннолетних, используя текстовые описания и (опционально) предобученные модели.\n",
    "- Провести финальный анализ очищенного датасета перед векторизацией данных и обучением модели."
   ]
  },
  {
   "cell_type": "markdown",
   "id": "TRO-299oQ2IV",
   "metadata": {
    "id": "TRO-299oQ2IV"
   },
   "source": [
    "Посмотрим несколько изображений и описаний к ним"
   ]
  },
  {
   "cell_type": "code",
   "execution_count": null,
   "id": "d6IlufbiQsgU",
   "metadata": {
    "id": "d6IlufbiQsgU"
   },
   "outputs": [],
   "source": [
    "sample = train_queries.sample(8, random_state=1000)  # Берем 8 случайных примеров\n",
    "\n",
    "fig, axes = plt.subplots(2, 4, figsize=(20, 10))\n",
    "axes = axes.flatten()\n",
    "\n",
    "for idx, row in enumerate(sample.itertuples()):\n",
    "    image_path = os.path.join(train_images_path, row.image)\n",
    "\n",
    "    try:\n",
    "        image = Image.open(image_path)\n",
    "        axes[idx].imshow(image)\n",
    "        axes[idx].axis(\"off\")\n",
    "        axes[idx].set_title(row.query_text, fontsize=10)\n",
    "    except FileNotFoundError:\n",
    "        print(f\"Файл {row.image} не найден.\")\n",
    "        axes[idx].axis(\"off\")\n",
    "\n",
    "plt.tight_layout()\n",
    "plt.show()"
   ]
  },
  {
   "cell_type": "markdown",
   "id": "7cbaa861",
   "metadata": {
    "cellId": "9h91oxwx86d7i8rqt5miv4",
    "execution_id": "4401a0e8-fd2b-479b-9e84-6ffafbcead47",
    "id": "7cbaa861"
   },
   "source": [
    "## 2. Проверка данных\n",
    "\n",
    "В некоторых странах, где работает наша компания, действуют ограничения по обработке изображений: поисковым сервисам и сервисам, предоставляющим возможность поиска, запрещено без разрешения родителей или законных представителей предоставлять любую информацию, в том числе, но не исключительно тексты, изображения, видео и аудио, содержащие описание, изображение или запись голоса детей. Ребёнком считается любой человек, не достигший 16 лет.\n",
    "\n",
    "В нашем сервисе строго следуют законам стран, в которых работают. Поэтому при попытке посмотреть изображения, запрещённые законодательством, вместо картинок показывается дисклеймер:\n",
    "\n",
    "> This image is unavailable in your country in compliance with local laws\n",
    ">\n",
    "\n",
    "Однако у нас в PoC нет возможности воспользоваться данным функционалом. Поэтому все изображения, которые нарушают данный закон, удалим из обучающей выборки."
   ]
  },
  {
   "cell_type": "markdown",
   "id": "595b0f0f",
   "metadata": {},
   "source": [
    "Анализ текстовых описаний\n",
    "\n",
    "Если в описании явно упоминается ребенок (например, \"child\", \"kid\", \"baby\", \"boy\", \"girl\" и т. д.), то, скорее всего, на картинке изображен несовершеннолетний.\n",
    "\n",
    "Используем NLP (анализ текста) для поиска таких слов в query_text.\n",
    "Если описание содержит слова, связанные с детьми, то удаляем эту запись."
   ]
  },
  {
   "cell_type": "code",
   "execution_count": null,
   "id": "0ec94b86",
   "metadata": {},
   "outputs": [],
   "source": [
    "# добавим в итоговый датасет текстовое описание изображения и провеврим на дубликаты\n",
    "final_df_merged = final_df.merge(train_queries, on=['query_id', 'image'], how='left')\n",
    "final_df_merged.duplicated().sum()"
   ]
  },
  {
   "cell_type": "code",
   "execution_count": null,
   "id": "ac8c0001",
   "metadata": {},
   "outputs": [],
   "source": [
    "# проверяем результат\n",
    "print(final_df_merged.info()) \n",
    "display(final_df_merged.head())  "
   ]
  },
  {
   "cell_type": "code",
   "execution_count": null,
   "id": "b352d2cd",
   "metadata": {
    "cellId": "6j23jr8qr9wgyyqkm2puj",
    "id": "b352d2cd"
   },
   "outputs": [],
   "source": [
    "child_keywords = [\"child\", \"kid\", \"baby\", \"boy\", \"girl\", \"toddler\", \"infant\", \"teen\", \"young\", \"little\", \"small\"]\n",
    "\n",
    "mask = final_df_merged['query_text'].str.contains('|'.join(child_keywords), case=False, na=False)\n",
    "\n",
    "cleaned_df = final_df_merged[~mask]\n",
    "\n",
    "print(f\"Удалено записей: {final_df_merged.shape[0] - cleaned_df.shape[0]}\")\n"
   ]
  },
  {
   "cell_type": "code",
   "execution_count": null,
   "id": "d02fc02b",
   "metadata": {},
   "outputs": [],
   "source": [
    "information_data(cleaned_df)"
   ]
  },
  {
   "cell_type": "markdown",
   "id": "8295e343",
   "metadata": {},
   "source": [
    "Проверим, как прошло очищение данных:"
   ]
  },
  {
   "cell_type": "code",
   "execution_count": null,
   "id": "2233caa5",
   "metadata": {},
   "outputs": [],
   "source": [
    "# Список ключевых слов, которые могут указывать на присутствие детей\n",
    "child_keywords = [\"child\", \"baby\", \"toddler\", \"kid\", \"infant\", \"boy\", \"girl\", \n",
    "                  \"young boy\", \"young girl\", \"little boy\", \"little girl\", \n",
    "                  \"children\", \"kids\", \"school\"]\n",
    "\n",
    "# Приводим query_text к нижнему регистру и проверяем наличие ключевых слов\n",
    "mask_children = cleaned_df['query_text'].str.lower().str.contains('|'.join(child_keywords), na=False)\n",
    "\n",
    "# Отбираем записи, где могут быть дети\n",
    "potential_child_images = cleaned_df[mask_children]\n",
    "\n",
    "# Смотрим примеры\n",
    "display(potential_child_images.head()) "
   ]
  },
  {
   "cell_type": "markdown",
   "id": "1d4ef807",
   "metadata": {
    "cellId": "ggxcvhmhcm9rshysbjoo4n",
    "execution_id": "d7935f99-48c0-42b8-a227-dd2b2d9b70fc",
    "id": "1d4ef807"
   },
   "source": [
    "## 3. Векторизация изображений\n",
    "\n",
    "Перейдём к векторизации изображений.\n",
    "\n",
    "Самый примитивный способ — прочесть изображение и превратить полученную матрицу в вектор. Такой способ нам не подходит: длина векторов может быть сильно разной, так как размеры изображений разные. Поэтому стоит обратиться к свёрточным сетям: они позволяют \"выделить\" главные компоненты изображений. Как это сделать? Нужно выбрать какую-либо архитектуру, например ResNet-18, посмотреть на слои и исключить полносвязные слои, которые отвечают за конечное предсказание. При этом можно загрузить модель данной архитектуры, предварительно натренированную на датасете ImageNet."
   ]
  },
  {
   "cell_type": "code",
   "execution_count": null,
   "id": "0167b804",
   "metadata": {
    "cellId": "4wiflhqkew9mq1gq5927e",
    "id": "0167b804"
   },
   "outputs": [],
   "source": [
    "# 1. Загружаем предобученную модель ResNet-18\n",
    "model = models.resnet18(pretrained=True)\n",
    "\n",
    "# 2. Убираем последний слой (полносвязный)\n",
    "model = torch.nn.Sequential(*list(model.children())[:-1])\n",
    "model.eval()  # Переключаем в режим оценки\n",
    "\n",
    "# 3. Преобразование изображений в тензоры\n",
    "transform = transforms.Compose([\n",
    "    transforms.Resize((224, 224)),  # Изменяем размер изображения\n",
    "    transforms.ToTensor(),          # Преобразуем в тензор\n",
    "    transforms.Normalize(mean=[0.485, 0.456, 0.406], std=[0.229, 0.224, 0.225])  # Нормализация\n",
    "])\n",
    "\n",
    "# 4. Функция для векторизации изображений\n",
    "def extract_features(image_path, model):\n",
    "    try:\n",
    "        image = Image.open(image_path).convert(\"RGB\")\n",
    "        image = transform(image).unsqueeze(0)  # Добавляем размерность batch\n",
    "        with torch.no_grad():\n",
    "            features = model(image)  # Получаем векторное представление\n",
    "        return features.squeeze().numpy()  # Преобразуем в numpy\n",
    "    except Exception as e:\n",
    "        print(f\"Ошибка с файлом {image_path}: {e}\")\n",
    "        return None\n",
    "\n",
    "# 5. Векторизуем изображения из cleaned_df\n",
    "image_vectors = {}\n",
    "image_folder = \"data/train_images\"  # Путь к папке с изображениями\n",
    "\n",
    "for img_name in cleaned_df['image'].unique():\n",
    "    img_path = os.path.join(image_folder, img_name)\n",
    "    if os.path.exists(img_path):\n",
    "        image_vectors[img_name] = extract_features(img_path, model)\n",
    "\n",
    "# 6. Преобразуем в DataFrame\n",
    "image_vectors_df = pd.DataFrame.from_dict(image_vectors, orient='index')\n",
    "image_vectors_df.reset_index(inplace=True)\n",
    "image_vectors_df.rename(columns={'index': 'image'}, inplace=True)\n",
    "\n",
    "# 7. Объединяем с финальным датасетом\n",
    "final_df_with_vectors = cleaned_df.merge(image_vectors_df, on='image', how='left')\n",
    "\n",
    "# 8. Сохраняем векторизированные изображения\n",
    "final_df_with_vectors.to_csv(\"final_df_with_vectors.csv\", index=False)\n",
    "\n",
    "print(\"Готово! Изображения векторизированы и сохранены. ✅\")\n"
   ]
  },
  {
   "cell_type": "code",
   "execution_count": null,
   "id": "f2d2a023",
   "metadata": {},
   "outputs": [],
   "source": [
    "# 1. Проверяем размерность векторов\n",
    "# print(f\"Размерность векторизованных изображений: {image_vectors.shape}\")\n",
    "\n",
    "# 2. Проверяем, есть ли пропуски\n",
    "missing_vectors = np.isnan(image_vectors).sum()\n",
    "print(f\"Количество пропущенных значений в векторах: {missing_vectors}\")\n",
    "\n",
    "# 3. Выводим несколько примеров векторизованных изображений\n",
    "print(\"Примеры первых 5 векторов:\")\n",
    "print(image_vectors[:5])\n",
    "\n",
    "# 4. Базовая статистика\n",
    "print(\"\\nСтатистика по векторизованным изображениям:\")\n",
    "print(pd.DataFrame(image_vectors).describe())\n"
   ]
  },
  {
   "cell_type": "markdown",
   "id": "aea53bf6",
   "metadata": {
    "cellId": "z8evfugfch8wpstvnxv0t",
    "execution_id": "028ade1d-49fe-4110-8b13-3c1aecdaa142",
    "id": "aea53bf6"
   },
   "source": [
    "## 4. Векторизация текстов\n",
    "\n",
    "Следующий этап — векторизация текстов. Вы можете поэкспериментировать с несколькими способами векторизации текстов:\n",
    "\n",
    "- tf-idf\n",
    "- word2vec\n",
    "- \\*трансформеры (например Bert)\n",
    "\n",
    "\\* — если вы изучали трансформеры в спринте Машинное обучение для текстов.\n"
   ]
  },
  {
   "cell_type": "code",
   "execution_count": null,
   "id": "cd7584bd",
   "metadata": {
    "cellId": "5f0eae9yldcozrwh01qp0c",
    "id": "cd7584bd"
   },
   "outputs": [],
   "source": []
  },
  {
   "cell_type": "markdown",
   "id": "760c0ccd",
   "metadata": {
    "cellId": "yci1zcmnsacl720fr75sb",
    "execution_id": "5ecfa9d5-3913-4fb3-a33e-99bab3798577",
    "id": "760c0ccd"
   },
   "source": [
    "## 5. Объединение векторов\n",
    "\n",
    "Подготовьте данные для обучения: объедините векторы изображений и векторы текстов с целевой переменной."
   ]
  },
  {
   "cell_type": "code",
   "execution_count": null,
   "id": "b747671f",
   "metadata": {
    "cellId": "n64cmotqegij9arvbc7sxf",
    "id": "b747671f"
   },
   "outputs": [],
   "source": []
  },
  {
   "cell_type": "markdown",
   "id": "60bc5668",
   "metadata": {
    "cellId": "97c9jj3s2zjj62vznivsk",
    "execution_id": "1a2d7233-0c79-479a-be63-5787145e3b48",
    "id": "60bc5668"
   },
   "source": [
    "## 6. Обучение модели предсказания соответствия\n",
    "\n",
    "Для обучения разделите датасет на тренировочную и тестовую выборки. Простое случайное разбиение не подходит: нужно исключить попадание изображения и в обучающую, и в тестовую выборки.\n",
    "Для того чтобы учесть изображения при разбиении, можно воспользоваться классом [GroupShuffleSplit](https://scikit-learn.org/stable/modules/generated/sklearn.model_selection.GroupShuffleSplit.html) из библиотеки sklearn.model_selection.\n",
    "\n",
    "Код ниже разбивает датасет на тренировочную и тестовую выборки в пропорции 7:3 так, что строки с одинаковым значением 'group_column' будут содержаться либо в тестовом, либо в тренировочном датасете.\n",
    "\n",
    "```\n",
    "from sklearn.model_selection import GroupShuffleSplit\n",
    "gss = GroupShuffleSplit(n_splits=1, train_size=.7, random_state=42)\n",
    "train_indices, test_indices = next(gss.split(X=df.drop(columns=['target']), y=df['target'], groups=df['group_column']))\n",
    "train_df, test_df = df.loc[train_indices], df.loc[test_indices]\n",
    "\n",
    "```\n",
    "\n",
    "Какую модель использовать — выберите самостоятельно. Также вам предстоит выбрать метрику качества либо реализовать свою."
   ]
  },
  {
   "cell_type": "code",
   "execution_count": null,
   "id": "a723a8ad",
   "metadata": {
    "cellId": "v1ntb27jt4z9fazi1y8me",
    "id": "a723a8ad"
   },
   "outputs": [],
   "source": []
  },
  {
   "cell_type": "markdown",
   "id": "2f870d77",
   "metadata": {
    "cellId": "tbnfwg686jpxjdsw7cqbl",
    "execution_id": "5e14c3be-a481-438e-a979-0f4621acea44",
    "id": "2f870d77"
   },
   "source": [
    "## 7. Тестирование модели\n",
    "\n",
    "Настало время протестировать модель. Для этого получите эмбеддинги для всех тестовых изображений из папки `test_images`, выберите случайные 10 запросов из файла `test_queries.csv` и для каждого запроса выведите наиболее релевантное изображение. Сравните визуально качество поиска."
   ]
  },
  {
   "cell_type": "code",
   "execution_count": null,
   "id": "801e0c32",
   "metadata": {
    "cellId": "q6sn9kh039f4a6xvu66y7",
    "id": "801e0c32"
   },
   "outputs": [],
   "source": []
  },
  {
   "cell_type": "markdown",
   "id": "fab1345a",
   "metadata": {
    "cellId": "dnvdkzzxdpet1yc4m64cx",
    "execution_id": "3e367f6a-97e3-4ed7-9b73-39ed363fd2b7",
    "id": "fab1345a"
   },
   "source": [
    "## 8. Выводы\n",
    "\n",
    "- [x]  Jupyter Notebook открыт\n",
    "- [ ]  Весь код выполняется без ошибок\n",
    "- [ ]  Ячейки с кодом расположены в порядке исполнения\n",
    "- [ ]  Исследовательский анализ данных выполнен\n",
    "- [ ]  Проверены экспертные оценки и краудсорсинговые оценки\n",
    "- [ ]  Из датасета исключены те объекты, которые выходят за рамки юридических ограничений\n",
    "- [ ]  Изображения векторизованы\n",
    "- [ ]  Текстовые запросы векторизованы\n",
    "- [ ]  Данные корректно разбиты на тренировочную и тестовую выборки\n",
    "- [ ]  Предложена метрика качества работы модели\n",
    "- [ ]  Предложена модель схожести изображений и текстового запроса\n",
    "- [ ]  Модель обучена\n",
    "- [ ]  По итогам обучения модели сделаны выводы\n",
    "- [ ]  Проведено тестирование работы модели\n",
    "- [ ]  По итогам тестирования визуально сравнили качество поиска"
   ]
  }
 ],
 "metadata": {
  "celltoolbar": "Отсутствует",
  "colab": {
   "provenance": [],
   "toc_visible": true
  },
  "kernelspec": {
   "display_name": "Python 3 (ipykernel)",
   "language": "python",
   "name": "python3"
  },
  "language_info": {
   "codemirror_mode": {
    "name": "ipython",
    "version": 3
   },
   "file_extension": ".py",
   "mimetype": "text/x-python",
   "name": "python",
   "nbconvert_exporter": "python",
   "pygments_lexer": "ipython3",
   "version": "3.11.5"
  },
  "notebookId": "e47b60f7-b2b4-44ee-beb3-b44a93eaf068",
  "notebookPath": "precode.ipynb",
  "toc": {
   "base_numbering": 1,
   "nav_menu": {},
   "number_sections": true,
   "sideBar": true,
   "skip_h1_title": true,
   "title_cell": "Table of Contents",
   "title_sidebar": "Contents",
   "toc_cell": false,
   "toc_position": {
    "height": "calc(100% - 180px)",
    "left": "10px",
    "top": "150px",
    "width": "384px"
   },
   "toc_section_display": true,
   "toc_window_display": true
  }
 },
 "nbformat": 4,
 "nbformat_minor": 5
}
